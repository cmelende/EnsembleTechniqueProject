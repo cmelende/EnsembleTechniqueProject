{
 "cells": [
  {
   "cell_type": "markdown",
   "metadata": {},
   "source": [
    "## Ensemble Technique Project\n",
    "### Github: https://github.com/cmelende/EnsembleTechniqueProject.git\n",
    "### Cory Melendez\n",
    "### 7/31/2022"
   ]
  },
  {
   "cell_type": "code",
   "execution_count": null,
   "metadata": {},
   "outputs": [],
   "source": [
    "import pandas as pd\n",
    "import seaborn as sns\n",
    "sns.set(rc={'figure.figsize':(11.7,8.27)})"
   ]
  },
  {
   "cell_type": "code",
   "execution_count": 84,
   "metadata": {},
   "outputs": [
    {
     "output_type": "execute_result",
     "data": {
      "text/plain": "   age           job  marital  education default  balance housing loan  \\\n0   58    management  married   tertiary      no     2143     yes   no   \n1   44    technician   single  secondary      no       29     yes   no   \n2   33  entrepreneur  married  secondary      no        2     yes  yes   \n3   47   blue-collar  married    unknown      no     1506     yes   no   \n4   33       unknown   single    unknown      no        1      no   no   \n\n   contact  day month  duration  campaign  pdays  previous poutcome Target  \n0  unknown    5   may       261         1     -1         0  unknown     no  \n1  unknown    5   may       151         1     -1         0  unknown     no  \n2  unknown    5   may        76         1     -1         0  unknown     no  \n3  unknown    5   may        92         1     -1         0  unknown     no  \n4  unknown    5   may       198         1     -1         0  unknown     no  ",
      "text/html": "<div>\n<style scoped>\n    .dataframe tbody tr th:only-of-type {\n        vertical-align: middle;\n    }\n\n    .dataframe tbody tr th {\n        vertical-align: top;\n    }\n\n    .dataframe thead th {\n        text-align: right;\n    }\n</style>\n<table border=\"1\" class=\"dataframe\">\n  <thead>\n    <tr style=\"text-align: right;\">\n      <th></th>\n      <th>age</th>\n      <th>job</th>\n      <th>marital</th>\n      <th>education</th>\n      <th>default</th>\n      <th>balance</th>\n      <th>housing</th>\n      <th>loan</th>\n      <th>contact</th>\n      <th>day</th>\n      <th>month</th>\n      <th>duration</th>\n      <th>campaign</th>\n      <th>pdays</th>\n      <th>previous</th>\n      <th>poutcome</th>\n      <th>Target</th>\n    </tr>\n  </thead>\n  <tbody>\n    <tr>\n      <th>0</th>\n      <td>58</td>\n      <td>management</td>\n      <td>married</td>\n      <td>tertiary</td>\n      <td>no</td>\n      <td>2143</td>\n      <td>yes</td>\n      <td>no</td>\n      <td>unknown</td>\n      <td>5</td>\n      <td>may</td>\n      <td>261</td>\n      <td>1</td>\n      <td>-1</td>\n      <td>0</td>\n      <td>unknown</td>\n      <td>no</td>\n    </tr>\n    <tr>\n      <th>1</th>\n      <td>44</td>\n      <td>technician</td>\n      <td>single</td>\n      <td>secondary</td>\n      <td>no</td>\n      <td>29</td>\n      <td>yes</td>\n      <td>no</td>\n      <td>unknown</td>\n      <td>5</td>\n      <td>may</td>\n      <td>151</td>\n      <td>1</td>\n      <td>-1</td>\n      <td>0</td>\n      <td>unknown</td>\n      <td>no</td>\n    </tr>\n    <tr>\n      <th>2</th>\n      <td>33</td>\n      <td>entrepreneur</td>\n      <td>married</td>\n      <td>secondary</td>\n      <td>no</td>\n      <td>2</td>\n      <td>yes</td>\n      <td>yes</td>\n      <td>unknown</td>\n      <td>5</td>\n      <td>may</td>\n      <td>76</td>\n      <td>1</td>\n      <td>-1</td>\n      <td>0</td>\n      <td>unknown</td>\n      <td>no</td>\n    </tr>\n    <tr>\n      <th>3</th>\n      <td>47</td>\n      <td>blue-collar</td>\n      <td>married</td>\n      <td>unknown</td>\n      <td>no</td>\n      <td>1506</td>\n      <td>yes</td>\n      <td>no</td>\n      <td>unknown</td>\n      <td>5</td>\n      <td>may</td>\n      <td>92</td>\n      <td>1</td>\n      <td>-1</td>\n      <td>0</td>\n      <td>unknown</td>\n      <td>no</td>\n    </tr>\n    <tr>\n      <th>4</th>\n      <td>33</td>\n      <td>unknown</td>\n      <td>single</td>\n      <td>unknown</td>\n      <td>no</td>\n      <td>1</td>\n      <td>no</td>\n      <td>no</td>\n      <td>unknown</td>\n      <td>5</td>\n      <td>may</td>\n      <td>198</td>\n      <td>1</td>\n      <td>-1</td>\n      <td>0</td>\n      <td>unknown</td>\n      <td>no</td>\n    </tr>\n  </tbody>\n</table>\n</div>"
     },
     "metadata": {},
     "execution_count": 84
    }
   ],
   "source": [
    "bankData = pd.read_csv('bank-full.csv')\n",
    "bankData.head()"
   ]
  },
  {
   "cell_type": "markdown",
   "metadata": {},
   "source": [
    "### 1. Univariate Analysis"
   ]
  },
  {
   "cell_type": "markdown",
   "metadata": {},
   "source": [
    "### a. "
   ]
  },
  {
   "cell_type": "markdown",
   "metadata": {},
   "source": [
    "### Description of indipendent variables"
   ]
  },
  {
   "cell_type": "code",
   "execution_count": 86,
   "metadata": {},
   "outputs": [],
   "source": [
    "\n",
    "class UniVariateAnalysis:\n",
    "\n",
    "    def __init__(self, df, columnName):\n",
    "        self.columnName = columnName\n",
    "        self.dataframe = df\n",
    "        self.series = df[columnName]\n",
    "    \n",
    "    def get_q1(self):\n",
    "        return self.series.quantile(.25)\n",
    "\n",
    "    def get_q2(self):\n",
    "        return self.series.quantile(.5)\n",
    "\n",
    "    def get_q3(self):\n",
    "        return self.series.quantile(.75)\n",
    "\n",
    "    def get_q4(self):\n",
    "        return self.series.quantile(1)\n",
    "\n",
    "    def get_iqr(self):\n",
    "        return self.get_q3() - self.get_q1()\n",
    "\n",
    "    def get_min(self):\n",
    "        return self.dataframe[self.columnName].min()\n",
    "\n",
    "    def get_median(self):\n",
    "        return self.dataframe[self.columnName].median()\n",
    "\n",
    "    def get_max(self):\n",
    "        return self.dataframe[self.columnName].max()\n",
    "\n",
    "    def get_data_type(self):\n",
    "        return self.dataframe[self.columnName].dtypes\n",
    "\n",
    "    def get_lower_outlier_rows(self):\n",
    "        return self.dataframe.loc[(self.dataframe[self.columnName] < self.get_lower_whisker_value())]\n",
    "\n",
    "    def get_lower_whisker_value(self):\n",
    "        return self.get_q1() - ((3/2) * self.get_iqr())\n",
    "\n",
    "    def get_higher_outlier_rows(self):\n",
    "        return self.dataframe.loc[(self.dataframe[self.columnName] > self.get_higher_whisker_value())]\n",
    "\n",
    "    def get_higher_whisker_value(self):\n",
    "        return self.get_q3() + ( (3/2) * self.get_iqr())\n",
    "\n",
    "    def get_std(self):\n",
    "        return self.dataframe[self.columnName].std()"
   ]
  },
  {
   "cell_type": "code",
   "execution_count": 85,
   "metadata": {},
   "outputs": [],
   "source": [
    "class UniVariateReport: \n",
    "    def __init__(self, uniVariateAnalysis):\n",
    "        self.analysis = uniVariateAnalysis\n",
    "    \n",
    "    def print_quartiles(self):\n",
    "        print(\"Q1: \" , self.analysis.get_q1())\n",
    "        print(\"Q2: \", self.analysis.get_q2())\n",
    "        print(\"Q3: \", self.analysis.get_q3())\n",
    "        print(\"Q4: \", self.analysis.get_q4())\n",
    "        print(\"Min: \", self.analysis.get_min())\n",
    "        print(\"Median: \", self.analysis.get_median())\n",
    "        print(\"Max: \", self.analysis.get_max())\n",
    "    \n",
    "    def print_whiskers(self):\n",
    "        print(\"Top whisker: \", self.analysis.get_higher_whisker_value())\n",
    "        print(\"Bottom whisker: \", self.analysis.get_lower_whisker_value())\n",
    "\n",
    "    def print_data_type(self):\n",
    "        print(\"Data type: \", self.analysis.get_data_type())\n",
    "\n",
    "    def print_value_range(self):\n",
    "        print(f'Range of values: ({self.analysis.get_min()}, {self.analysis.get_max()})')\n",
    "\n",
    "    def print_std(self):\n",
    "        print(\"Standard deviation: \", self.analysis.get_std())\n",
    "\n",
    "    def print_report(self):\n",
    "        self.print_data_type()\n",
    "        self.print_value_range()\n",
    "        self.print_std()\n",
    "        self.print_quartiles()\n",
    "        self.print_whiskers()"
   ]
  },
  {
   "cell_type": "markdown",
   "metadata": {},
   "source": [
    "### Age\n",
    "* meaning - Age of person, possibly a good indicator of target variables\n",
    "* analysis - Distribution of the data seems to indicate that most of the people in the dataset are 'younger' to middle aged.\n",
    "* missing values - No missing values, we can probably safely asssume that anyone over the age of 18 is a valid customer\n",
    "\n",
    "\n"
   ]
  },
  {
   "cell_type": "code",
   "execution_count": 83,
   "metadata": {
    "tags": []
   },
   "outputs": [
    {
     "output_type": "stream",
     "name": "stdout",
     "text": "Data type:  int64\nRange of values: (18, 95)\nStandard deviation:  10.61876204097542\nQ1:  33.0\nQ2:  39.0\nQ3:  48.0\nQ4:  95.0\nMin:  18\nMedian:  39.0\nMax:  95\nTop whisker:  70.5\nBottom whisker:  10.5\n"
    }
   ],
   "source": [
    "ageAnalysis = UniVariateAnalysis(bankData, 'age')\n",
    "agaAnalysisReport = UniVariateReport(ageAnalysis)\n",
    "agaAnalysisReport.print_report()"
   ]
  },
  {
   "cell_type": "code",
   "execution_count": 80,
   "metadata": {
    "tags": []
   },
   "outputs": [
    {
     "output_type": "execute_result",
     "data": {
      "text/plain": "       age      job   marital  education default  balance housing loan  \\\n29158   83  retired   married    primary      no      425      no   no   \n29261   75  retired  divorced    primary      no       46      no   no   \n29263   75  retired   married    primary      no     3324      no   no   \n29322   83  retired   married   tertiary      no     6236      no   no   \n29865   75  retired  divorced    primary      no     3881     yes   no   \n...    ...      ...       ...        ...     ...      ...     ...  ...   \n45163   71  retired   married  secondary      no     2064      no   no   \n45191   75  retired  divorced   tertiary      no     3810     yes   no   \n45204   73  retired   married  secondary      no     2850      no   no   \n45207   71  retired  divorced    primary      no     1729      no   no   \n45208   72  retired   married  secondary      no     5715      no   no   \n\n         contact  day month  duration  campaign  pdays  previous poutcome  \\\n29158  telephone    2   feb       912         1     -1         0  unknown   \n29261   cellular    2   feb       294         1     -1         0  unknown   \n29263   cellular    2   feb       149         1     -1         0  unknown   \n29322   cellular    2   feb       283         2     -1         0  unknown   \n29865   cellular    4   feb       136         3     -1         0  unknown   \n...          ...  ...   ...       ...       ...    ...       ...      ...   \n45163   cellular    9   nov       379         2     92         3  failure   \n45191   cellular   16   nov       262         1    183         1  failure   \n45204   cellular   17   nov       300         1     40         8  failure   \n45207   cellular   17   nov       456         2     -1         0  unknown   \n45208   cellular   17   nov      1127         5    184         3  success   \n\n      Target  \n29158     no  \n29261     no  \n29263     no  \n29322     no  \n29865    yes  \n...      ...  \n45163     no  \n45191    yes  \n45204    yes  \n45207    yes  \n45208    yes  \n\n[487 rows x 17 columns]",
      "text/html": "<div>\n<style scoped>\n    .dataframe tbody tr th:only-of-type {\n        vertical-align: middle;\n    }\n\n    .dataframe tbody tr th {\n        vertical-align: top;\n    }\n\n    .dataframe thead th {\n        text-align: right;\n    }\n</style>\n<table border=\"1\" class=\"dataframe\">\n  <thead>\n    <tr style=\"text-align: right;\">\n      <th></th>\n      <th>age</th>\n      <th>job</th>\n      <th>marital</th>\n      <th>education</th>\n      <th>default</th>\n      <th>balance</th>\n      <th>housing</th>\n      <th>loan</th>\n      <th>contact</th>\n      <th>day</th>\n      <th>month</th>\n      <th>duration</th>\n      <th>campaign</th>\n      <th>pdays</th>\n      <th>previous</th>\n      <th>poutcome</th>\n      <th>Target</th>\n    </tr>\n  </thead>\n  <tbody>\n    <tr>\n      <th>29158</th>\n      <td>83</td>\n      <td>retired</td>\n      <td>married</td>\n      <td>primary</td>\n      <td>no</td>\n      <td>425</td>\n      <td>no</td>\n      <td>no</td>\n      <td>telephone</td>\n      <td>2</td>\n      <td>feb</td>\n      <td>912</td>\n      <td>1</td>\n      <td>-1</td>\n      <td>0</td>\n      <td>unknown</td>\n      <td>no</td>\n    </tr>\n    <tr>\n      <th>29261</th>\n      <td>75</td>\n      <td>retired</td>\n      <td>divorced</td>\n      <td>primary</td>\n      <td>no</td>\n      <td>46</td>\n      <td>no</td>\n      <td>no</td>\n      <td>cellular</td>\n      <td>2</td>\n      <td>feb</td>\n      <td>294</td>\n      <td>1</td>\n      <td>-1</td>\n      <td>0</td>\n      <td>unknown</td>\n      <td>no</td>\n    </tr>\n    <tr>\n      <th>29263</th>\n      <td>75</td>\n      <td>retired</td>\n      <td>married</td>\n      <td>primary</td>\n      <td>no</td>\n      <td>3324</td>\n      <td>no</td>\n      <td>no</td>\n      <td>cellular</td>\n      <td>2</td>\n      <td>feb</td>\n      <td>149</td>\n      <td>1</td>\n      <td>-1</td>\n      <td>0</td>\n      <td>unknown</td>\n      <td>no</td>\n    </tr>\n    <tr>\n      <th>29322</th>\n      <td>83</td>\n      <td>retired</td>\n      <td>married</td>\n      <td>tertiary</td>\n      <td>no</td>\n      <td>6236</td>\n      <td>no</td>\n      <td>no</td>\n      <td>cellular</td>\n      <td>2</td>\n      <td>feb</td>\n      <td>283</td>\n      <td>2</td>\n      <td>-1</td>\n      <td>0</td>\n      <td>unknown</td>\n      <td>no</td>\n    </tr>\n    <tr>\n      <th>29865</th>\n      <td>75</td>\n      <td>retired</td>\n      <td>divorced</td>\n      <td>primary</td>\n      <td>no</td>\n      <td>3881</td>\n      <td>yes</td>\n      <td>no</td>\n      <td>cellular</td>\n      <td>4</td>\n      <td>feb</td>\n      <td>136</td>\n      <td>3</td>\n      <td>-1</td>\n      <td>0</td>\n      <td>unknown</td>\n      <td>yes</td>\n    </tr>\n    <tr>\n      <th>...</th>\n      <td>...</td>\n      <td>...</td>\n      <td>...</td>\n      <td>...</td>\n      <td>...</td>\n      <td>...</td>\n      <td>...</td>\n      <td>...</td>\n      <td>...</td>\n      <td>...</td>\n      <td>...</td>\n      <td>...</td>\n      <td>...</td>\n      <td>...</td>\n      <td>...</td>\n      <td>...</td>\n      <td>...</td>\n    </tr>\n    <tr>\n      <th>45163</th>\n      <td>71</td>\n      <td>retired</td>\n      <td>married</td>\n      <td>secondary</td>\n      <td>no</td>\n      <td>2064</td>\n      <td>no</td>\n      <td>no</td>\n      <td>cellular</td>\n      <td>9</td>\n      <td>nov</td>\n      <td>379</td>\n      <td>2</td>\n      <td>92</td>\n      <td>3</td>\n      <td>failure</td>\n      <td>no</td>\n    </tr>\n    <tr>\n      <th>45191</th>\n      <td>75</td>\n      <td>retired</td>\n      <td>divorced</td>\n      <td>tertiary</td>\n      <td>no</td>\n      <td>3810</td>\n      <td>yes</td>\n      <td>no</td>\n      <td>cellular</td>\n      <td>16</td>\n      <td>nov</td>\n      <td>262</td>\n      <td>1</td>\n      <td>183</td>\n      <td>1</td>\n      <td>failure</td>\n      <td>yes</td>\n    </tr>\n    <tr>\n      <th>45204</th>\n      <td>73</td>\n      <td>retired</td>\n      <td>married</td>\n      <td>secondary</td>\n      <td>no</td>\n      <td>2850</td>\n      <td>no</td>\n      <td>no</td>\n      <td>cellular</td>\n      <td>17</td>\n      <td>nov</td>\n      <td>300</td>\n      <td>1</td>\n      <td>40</td>\n      <td>8</td>\n      <td>failure</td>\n      <td>yes</td>\n    </tr>\n    <tr>\n      <th>45207</th>\n      <td>71</td>\n      <td>retired</td>\n      <td>divorced</td>\n      <td>primary</td>\n      <td>no</td>\n      <td>1729</td>\n      <td>no</td>\n      <td>no</td>\n      <td>cellular</td>\n      <td>17</td>\n      <td>nov</td>\n      <td>456</td>\n      <td>2</td>\n      <td>-1</td>\n      <td>0</td>\n      <td>unknown</td>\n      <td>yes</td>\n    </tr>\n    <tr>\n      <th>45208</th>\n      <td>72</td>\n      <td>retired</td>\n      <td>married</td>\n      <td>secondary</td>\n      <td>no</td>\n      <td>5715</td>\n      <td>no</td>\n      <td>no</td>\n      <td>cellular</td>\n      <td>17</td>\n      <td>nov</td>\n      <td>1127</td>\n      <td>5</td>\n      <td>184</td>\n      <td>3</td>\n      <td>success</td>\n      <td>yes</td>\n    </tr>\n  </tbody>\n</table>\n<p>487 rows × 17 columns</p>\n</div>"
     },
     "metadata": {},
     "execution_count": 80
    }
   ],
   "source": [
    "\n",
    "ageAnalysis.get_higher_outlier_rows()"
   ]
  },
  {
   "cell_type": "code",
   "execution_count": null,
   "metadata": {},
   "outputs": [],
   "source": [
    "bankData.describe()"
   ]
  },
  {
   "cell_type": "code",
   "execution_count": null,
   "metadata": {},
   "outputs": [],
   "source": [
    "sns.distplot(bankData['age'], bins=25)"
   ]
  },
  {
   "cell_type": "code",
   "execution_count": null,
   "metadata": {},
   "outputs": [],
   "source": [
    "sns.boxplot(bankData['age'])"
   ]
  },
  {
   "cell_type": "code",
   "execution_count": null,
   "metadata": {},
   "outputs": [],
   "source": [
    "bankData.loc[(bankData['age'] < 18)]"
   ]
  },
  {
   "cell_type": "code",
   "execution_count": null,
   "metadata": {
    "tags": []
   },
   "outputs": [],
   "source": [
    "bankData.info()"
   ]
  },
  {
   "cell_type": "markdown",
   "metadata": {},
   "source": [
    "job: \n",
    "\n",
    "marital:\n",
    "\n",
    "education: \n",
    "\n",
    "default:\n",
    "\n",
    "balance: \n",
    "\n",
    "housing: \n",
    "\n",
    "loan:\n",
    "\n",
    "contact:\n",
    "\n",
    "day: \n",
    "\n",
    "month:\n",
    "\n",
    "duration:\n",
    "\n",
    "campaign\n",
    "\n",
    "pdays:\n",
    "\n",
    "previous: \n",
    "\n",
    "poutcome:\n",
    "\n",
    "target: assumed to be target variable, ie the variable we are wanting to predict"
   ]
  }
 ],
 "metadata": {
  "language_info": {
   "codemirror_mode": {
    "name": "ipython",
    "version": 3
   },
   "file_extension": ".py",
   "mimetype": "text/x-python",
   "name": "python",
   "nbconvert_exporter": "python",
   "pygments_lexer": "ipython3",
   "version": "3.8.2-final"
  },
  "orig_nbformat": 2,
  "kernelspec": {
   "name": "python_defaultSpec_1596172401068",
   "display_name": "Python 3.8.2 32-bit ('env': venv)"
  }
 },
 "nbformat": 4,
 "nbformat_minor": 2
}